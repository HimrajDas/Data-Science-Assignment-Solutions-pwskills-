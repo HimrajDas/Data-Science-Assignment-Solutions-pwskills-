{
 "cells": [
  {
   "cell_type": "markdown",
   "id": "7dacaeab",
   "metadata": {},
   "source": [
    "# Q1"
   ]
  },
  {
   "cell_type": "code",
   "execution_count": 1,
   "id": "e95c2980",
   "metadata": {},
   "outputs": [],
   "source": [
    "def add_numbers(n1, n2):\n",
    "    return n1 + n2"
   ]
  },
  {
   "cell_type": "code",
   "execution_count": 2,
   "id": "88b04c23",
   "metadata": {},
   "outputs": [
    {
     "data": {
      "text/plain": [
       "11"
      ]
     },
     "execution_count": 2,
     "metadata": {},
     "output_type": "execute_result"
    }
   ],
   "source": [
    "add_numbers(5, 6)"
   ]
  },
  {
   "cell_type": "markdown",
   "id": "fec3abe9",
   "metadata": {},
   "source": [
    "# Q2"
   ]
  },
  {
   "cell_type": "code",
   "execution_count": 3,
   "id": "7d3293e0",
   "metadata": {},
   "outputs": [],
   "source": [
    "import math\n",
    "def root(x):\n",
    "    return math.sqrt(x)"
   ]
  },
  {
   "cell_type": "code",
   "execution_count": 4,
   "id": "4071ffe4",
   "metadata": {},
   "outputs": [
    {
     "data": {
      "text/plain": [
       "5.0"
      ]
     },
     "execution_count": 4,
     "metadata": {},
     "output_type": "execute_result"
    }
   ],
   "source": [
    "root(25)"
   ]
  },
  {
   "cell_type": "markdown",
   "id": "5bfd32a8",
   "metadata": {},
   "source": [
    "# Q3"
   ]
  },
  {
   "cell_type": "code",
   "execution_count": 5,
   "id": "da0db2b3",
   "metadata": {},
   "outputs": [
    {
     "name": "stdout",
     "output_type": "stream",
     "text": [
      "2 3 5 7 11 13 17 19 23 29 31 37 41 43 47 "
     ]
    }
   ],
   "source": [
    "def is_prime(n):\n",
    "    if n <= 1:\n",
    "        return False\n",
    "    for i in range(2, n):\n",
    "        if n % i == 0:\n",
    "            return False\n",
    "    return True\n",
    "\n",
    "for i in range(0, 50):\n",
    "    if is_prime(i):\n",
    "        print(i, end=\" \")"
   ]
  },
  {
   "cell_type": "markdown",
   "id": "9cc2d940",
   "metadata": {},
   "source": [
    "# Q4\n"
   ]
  },
  {
   "cell_type": "code",
   "execution_count": 6,
   "id": "f1005a95",
   "metadata": {},
   "outputs": [],
   "source": [
    "a = 5\n",
    "b = 8\n",
    "c = 9\n",
    "a, b, c = (a + b + c) - (a + b), (a + b + c) - (b + c), (a + b + c) - (a + c)"
   ]
  },
  {
   "cell_type": "code",
   "execution_count": 7,
   "id": "750bd2db",
   "metadata": {},
   "outputs": [
    {
     "name": "stdout",
     "output_type": "stream",
     "text": [
      "9 5 8\n"
     ]
    }
   ],
   "source": [
    "print(a, b, c)"
   ]
  },
  {
   "cell_type": "markdown",
   "id": "8e4b540c",
   "metadata": {},
   "source": [
    "# Q5"
   ]
  },
  {
   "cell_type": "code",
   "execution_count": 8,
   "id": "4377af83",
   "metadata": {},
   "outputs": [],
   "source": [
    "def nature_of_number(n):\n",
    "    if n == 0:\n",
    "        return \"Zero\"\n",
    "    elif n > 0:\n",
    "        return \"positive number\"\n",
    "    else:\n",
    "        return \"negative number\""
   ]
  },
  {
   "cell_type": "code",
   "execution_count": 9,
   "id": "32b8e7ca",
   "metadata": {},
   "outputs": [
    {
     "data": {
      "text/plain": [
       "'Zero'"
      ]
     },
     "execution_count": 9,
     "metadata": {},
     "output_type": "execute_result"
    }
   ],
   "source": [
    "nature_of_number(0)"
   ]
  },
  {
   "cell_type": "markdown",
   "id": "20fd7f59",
   "metadata": {},
   "source": [
    "# Q6"
   ]
  },
  {
   "cell_type": "code",
   "execution_count": 10,
   "id": "7fd7d5f6",
   "metadata": {},
   "outputs": [],
   "source": [
    "def is_even(n):\n",
    "    if n % 2 == 0:\n",
    "        return \"it's an even number\"\n",
    "    else:\n",
    "        return \"it's an odd number\""
   ]
  },
  {
   "cell_type": "code",
   "execution_count": 11,
   "id": "2490348a",
   "metadata": {},
   "outputs": [
    {
     "data": {
      "text/plain": [
       "\"it's an even number\""
      ]
     },
     "execution_count": 11,
     "metadata": {},
     "output_type": "execute_result"
    }
   ],
   "source": [
    "is_even(6)"
   ]
  },
  {
   "cell_type": "code",
   "execution_count": 12,
   "id": "2b68d509",
   "metadata": {},
   "outputs": [],
   "source": [
    "def sum_of_digit(n):\n",
    "    ans = 0\n",
    "    while n > 0:\n",
    "        rem = n % 10\n",
    "        n //= 10\n",
    "        ans += rem\n",
    "    return ans"
   ]
  },
  {
   "cell_type": "code",
   "execution_count": 13,
   "id": "0a8c0bc8",
   "metadata": {
    "scrolled": true
   },
   "outputs": [
    {
     "data": {
      "text/plain": [
       "25"
      ]
     },
     "execution_count": 13,
     "metadata": {},
     "output_type": "execute_result"
    }
   ],
   "source": [
    "sum_of_digit(76543)"
   ]
  },
  {
   "cell_type": "code",
   "execution_count": 14,
   "id": "c159a607",
   "metadata": {},
   "outputs": [],
   "source": [
    "def reverse(n):\n",
    "    ans = 0\n",
    "    while n > 0:\n",
    "        rem = n % 10\n",
    "        n //= 10\n",
    "        ans = ans * 10 + rem\n",
    "    return ans"
   ]
  },
  {
   "cell_type": "code",
   "execution_count": 15,
   "id": "b30c63da",
   "metadata": {},
   "outputs": [
    {
     "data": {
      "text/plain": [
       "6345"
      ]
     },
     "execution_count": 15,
     "metadata": {},
     "output_type": "execute_result"
    }
   ],
   "source": [
    "reverse(5436)"
   ]
  },
  {
   "cell_type": "code",
   "execution_count": 16,
   "id": "d893749b",
   "metadata": {},
   "outputs": [],
   "source": [
    "def is_armstrong(n):\n",
    "    original_n = n\n",
    "    power = len(str(n))\n",
    "    ans = 0\n",
    "    while n > 0:\n",
    "        rem = n % 10\n",
    "        n //= 10\n",
    "        ans += rem ** power\n",
    "    if ans == original_n:\n",
    "        return True\n",
    "    else:\n",
    "        return False"
   ]
  },
  {
   "cell_type": "code",
   "execution_count": 17,
   "id": "fd519322",
   "metadata": {},
   "outputs": [
    {
     "data": {
      "text/plain": [
       "True"
      ]
     },
     "execution_count": 17,
     "metadata": {},
     "output_type": "execute_result"
    }
   ],
   "source": [
    "is_armstrong(153)"
   ]
  },
  {
   "cell_type": "code",
   "execution_count": 18,
   "id": "405f70d4",
   "metadata": {},
   "outputs": [],
   "source": [
    "def leap_year(n):\n",
    "    if n % 4 == 0:\n",
    "        if n % 100 == 0:\n",
    "            if n % 400 == 0:\n",
    "                return True\n",
    "            else:\n",
    "                return False\n",
    "        else:\n",
    "            return True\n",
    "    else:\n",
    "        return False\n"
   ]
  },
  {
   "cell_type": "code",
   "execution_count": 19,
   "id": "905a3ec0",
   "metadata": {},
   "outputs": [
    {
     "data": {
      "text/plain": [
       "True"
      ]
     },
     "execution_count": 19,
     "metadata": {},
     "output_type": "execute_result"
    }
   ],
   "source": [
    "leap_year(2024)"
   ]
  },
  {
   "cell_type": "code",
   "execution_count": null,
   "id": "f5309380",
   "metadata": {},
   "outputs": [],
   "source": []
  }
 ],
 "metadata": {
  "kernelspec": {
   "display_name": "Python 3 (ipykernel)",
   "language": "python",
   "name": "python3"
  },
  "language_info": {
   "codemirror_mode": {
    "name": "ipython",
    "version": 3
   },
   "file_extension": ".py",
   "mimetype": "text/x-python",
   "name": "python",
   "nbconvert_exporter": "python",
   "pygments_lexer": "ipython3",
   "version": "3.10.6"
  }
 },
 "nbformat": 4,
 "nbformat_minor": 5
}
