{
 "cells": [
  {
   "cell_type": "markdown",
   "id": "85acdb70",
   "metadata": {},
   "source": [
    "# 1 no question ans:-"
   ]
  },
  {
   "cell_type": "raw",
   "id": "39eda569",
   "metadata": {},
   "source": [
    "1. Characteristics of tuple are:\n",
    "    a. Immutable:  once a tuple is created, its elements cannot be changed or altered.\n",
    "    b. Heterogenous: tuples can contain elements of different data types, including other tuples, whereas lists typically                            contain elements of the same data type.\n",
    "    c. Order: The order of the elements in a tuple is important and is maintained.\n",
    "    d. Syntax: Tuples are defined using parentheses () instead of square brackets [].\n",
    "    \n",
    "    No, tuples are not mutable."
   ]
  },
  {
   "cell_type": "markdown",
   "id": "f441de1b",
   "metadata": {},
   "source": [
    "# 2 no question ans:-"
   ]
  },
  {
   "cell_type": "raw",
   "id": "1463084d",
   "metadata": {},
   "source": [
    "2. The two tuple methods are: \n",
    "    a. count()\n",
    "      numbers = (1, 2, 3, 4)\n",
    "      numbers.count(1)\n",
    "   \n",
    "    b. index()\n",
    "       numbers = (5, 6, 7, 8, 98)\n",
    "       numbers.index(6)\n",
    "       \n",
    "Tuples have only two in-built methods  because tuples are meant to be immutable and their use case is different from that of lists. Tuples are typically used to store data that doesn't change, such as date and time, whereas lists are meant to store data that can be changed or modified, such as a list of numbers. The two methods provided for tuples are sufficient for the tasks that tuples are meant to perform and do not require additional methods for modification."
   ]
  },
  {
   "cell_type": "markdown",
   "id": "23276c1d",
   "metadata": {},
   "source": [
    "# 3 no question ans:-"
   ]
  },
  {
   "cell_type": "code",
   "execution_count": 1,
   "id": "057527e8",
   "metadata": {},
   "outputs": [
    {
     "data": {
      "text/plain": [
       "{1, 2, 3, 4}"
      ]
     },
     "execution_count": 1,
     "metadata": {},
     "output_type": "execute_result"
    }
   ],
   "source": [
    "# set() and frozenset() in python doesn't allow duplicate of items.\n",
    "\n",
    "l = [1, 1, 1, 2, 1, 3, 1, 4, 2, 1, 2, 2, 2, 3, 2, 4, 3, 1, 3, 2, 3, 3, 3, 4, 4, 1, 4, 2, 4, 3, 4, 4]\n",
    "set(l)"
   ]
  },
  {
   "cell_type": "markdown",
   "id": "e1e7e445",
   "metadata": {},
   "source": [
    "# 4 no question ans:-"
   ]
  },
  {
   "cell_type": "raw",
   "id": "0c590ea6",
   "metadata": {},
   "source": [
    "The union() method returns a set that contains all the elements from both the original set and the set that is being merged into it. The original set remains unchanged.\n",
    "\n",
    "On the other hand, update() method adds all the elements from one set into another set. The original set is modified."
   ]
  },
  {
   "cell_type": "code",
   "execution_count": 2,
   "id": "177afaa8",
   "metadata": {},
   "outputs": [
    {
     "name": "stdout",
     "output_type": "stream",
     "text": [
      "{1, 2, 3, 4, 5, 6}\n"
     ]
    }
   ],
   "source": [
    "set1 = {1, 2, 3}\n",
    "set2 = {4, 5, 6}\n",
    "set3 = set1.union(set2)\n",
    "print(set3)"
   ]
  },
  {
   "cell_type": "code",
   "execution_count": 5,
   "id": "14f5b81e",
   "metadata": {},
   "outputs": [
    {
     "name": "stdout",
     "output_type": "stream",
     "text": [
      "{1, 2, 3, 4, 5, 6}\n"
     ]
    }
   ],
   "source": [
    "set1 = {1, 2, 3}\n",
    "set2 = {4, 5, 6}\n",
    "set1.update(set2)\n",
    "print(set1)"
   ]
  },
  {
   "cell_type": "markdown",
   "id": "b159b5de",
   "metadata": {},
   "source": [
    "# 5 no question ans:-"
   ]
  },
  {
   "cell_type": "code",
   "execution_count": 6,
   "id": "03e1733b",
   "metadata": {},
   "outputs": [],
   "source": [
    "# The dictionary is data type that stores key-value pairs.\n",
    "dict1 = {\n",
    "    \"name\": \"Ron\",\n",
    "    \"number\": 878238494,\n",
    "}\n",
    "\n",
    "# Dictionary is unordered."
   ]
  },
  {
   "cell_type": "markdown",
   "id": "0b851e40",
   "metadata": {},
   "source": [
    "# 6 no question ans:-"
   ]
  },
  {
   "cell_type": "code",
   "execution_count": 7,
   "id": "bf15008b",
   "metadata": {},
   "outputs": [],
   "source": [
    "# Yes, we can create nested dictionary.\n",
    "dict1 = {\n",
    "    \"contacts\": {\n",
    "        \"names\": [\"Bill Gates\", \"Elon musk\", \"Steve jobs\"],\n",
    "        \"numbers\": [8947563, 845859, 1847837],\n",
    "    }\n",
    "}"
   ]
  },
  {
   "cell_type": "markdown",
   "id": "cf15ac57",
   "metadata": {},
   "source": [
    "# 7 no question ans:-"
   ]
  },
  {
   "cell_type": "code",
   "execution_count": 8,
   "id": "d8b3db0c",
   "metadata": {},
   "outputs": [
    {
     "name": "stdout",
     "output_type": "stream",
     "text": [
      "{'language': 'Python', 'course': 'Data Science Masters', 'topics': ['python', 'machine learning', 'deep learning']}\n"
     ]
    }
   ],
   "source": [
    "dict1 = {'language' : 'Python', 'course': 'Data Science Masters'}\n",
    "dict1.setdefault(\"topics\", [\"python\", \"machine learning\", \"deep learning\"])\n",
    "print(dict1)"
   ]
  },
  {
   "cell_type": "markdown",
   "id": "196514ca",
   "metadata": {},
   "source": [
    "# 8 no question ans:-"
   ]
  },
  {
   "cell_type": "code",
   "execution_count": 9,
   "id": "1535b84f",
   "metadata": {},
   "outputs": [],
   "source": [
    "# The view objects for dictionary is: keys(), values(), items()\n",
    "dict1 = {'Sport': 'Cricket' , 'Teams': ['India', 'Australia', 'England', 'South Africa', 'Sri Lanka', 'New Zealand']}"
   ]
  },
  {
   "cell_type": "code",
   "execution_count": 10,
   "id": "affafdd7",
   "metadata": {},
   "outputs": [
    {
     "data": {
      "text/plain": [
       "dict_keys(['Sport', 'Teams'])"
      ]
     },
     "execution_count": 10,
     "metadata": {},
     "output_type": "execute_result"
    }
   ],
   "source": [
    "dict1.keys()"
   ]
  },
  {
   "cell_type": "code",
   "execution_count": 11,
   "id": "8b23a34a",
   "metadata": {},
   "outputs": [
    {
     "data": {
      "text/plain": [
       "dict_values(['Cricket', ['India', 'Australia', 'England', 'South Africa', 'Sri Lanka', 'New Zealand']])"
      ]
     },
     "execution_count": 11,
     "metadata": {},
     "output_type": "execute_result"
    }
   ],
   "source": [
    "dict1.values()"
   ]
  },
  {
   "cell_type": "code",
   "execution_count": 12,
   "id": "0500ba9c",
   "metadata": {},
   "outputs": [
    {
     "data": {
      "text/plain": [
       "dict_items([('Sport', 'Cricket'), ('Teams', ['India', 'Australia', 'England', 'South Africa', 'Sri Lanka', 'New Zealand'])])"
      ]
     },
     "execution_count": 12,
     "metadata": {},
     "output_type": "execute_result"
    }
   ],
   "source": [
    "dict1.items()"
   ]
  },
  {
   "cell_type": "code",
   "execution_count": null,
   "id": "833807d5",
   "metadata": {},
   "outputs": [],
   "source": []
  }
 ],
 "metadata": {
  "kernelspec": {
   "display_name": "Python 3 (ipykernel)",
   "language": "python",
   "name": "python3"
  },
  "language_info": {
   "codemirror_mode": {
    "name": "ipython",
    "version": 3
   },
   "file_extension": ".py",
   "mimetype": "text/x-python",
   "name": "python",
   "nbconvert_exporter": "python",
   "pygments_lexer": "ipython3",
   "version": "3.10.6"
  }
 },
 "nbformat": 4,
 "nbformat_minor": 5
}
