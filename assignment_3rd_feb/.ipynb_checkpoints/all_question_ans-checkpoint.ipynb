{
 "cells": [
  {
   "cell_type": "markdown",
   "id": "c4776e40",
   "metadata": {},
   "source": [
    "# 1 no question ans:-"
   ]
  },
  {
   "cell_type": "code",
   "execution_count": 1,
   "id": "ec49e62b",
   "metadata": {},
   "outputs": [
    {
     "data": {
      "text/plain": [
       "[1, 3, 5, 7, 9, 11, 13, 15, 17, 19, 21, 23, 25]"
      ]
     },
     "execution_count": 1,
     "metadata": {},
     "output_type": "execute_result"
    }
   ],
   "source": [
    "# def keyword is used to create afunction.\n",
    "\n",
    "nums = [1, 2, 3, 4, 5, 6, 7, 8, 9, 10, 11, 12, 13, 14, 15, 16, 17, 18, 19, 20, 21, 22, 23, 24, 25]\n",
    "def odd_nums(numbs):\n",
    "    ans = []\n",
    "    for i in numbs:\n",
    "        if i % 2 != 0:\n",
    "            ans.append(i)\n",
    "    return ans\n",
    "odd_nums(nums)"
   ]
  },
  {
   "cell_type": "markdown",
   "id": "1ab4bc30",
   "metadata": {},
   "source": [
    "# 2 no question ans:-"
   ]
  },
  {
   "cell_type": "code",
   "execution_count": 2,
   "id": "1a0e954d",
   "metadata": {},
   "outputs": [],
   "source": [
    "# *args is used when we don't know how many non-keyword arguments we need to pass to the function.\n",
    "\n",
    "# **kwargs is used to pass key-worded, variable length arguments. The keyword arguments passed to the function as a dictionary."
   ]
  },
  {
   "cell_type": "code",
   "execution_count": 3,
   "id": "0597bdf2",
   "metadata": {},
   "outputs": [
    {
     "data": {
      "text/plain": [
       "['SUDHANSU', 'BILLGATES']"
      ]
     },
     "execution_count": 3,
     "metadata": {},
     "output_type": "execute_result"
    }
   ],
   "source": [
    "def fun(*args):\n",
    "    ans = []\n",
    "    for i in args:\n",
    "        if type(i) == str:\n",
    "            ans.append(i.upper())\n",
    "    return ans\n",
    "fun(\"sudhansu\", \"billgates\")"
   ]
  },
  {
   "cell_type": "code",
   "execution_count": 4,
   "id": "8b0e19d9",
   "metadata": {},
   "outputs": [
    {
     "data": {
      "text/plain": [
       "{'a': 32, 'b': 2, 'c': 'himraj'}"
      ]
     },
     "execution_count": 4,
     "metadata": {},
     "output_type": "execute_result"
    }
   ],
   "source": [
    "def fun2(**kwargs):\n",
    "    return kwargs\n",
    "fun2(a = 32, b = 2, c=\"himraj\")"
   ]
  },
  {
   "cell_type": "markdown",
   "id": "dca5a7b8",
   "metadata": {},
   "source": [
    "# 3 no question ans:-"
   ]
  },
  {
   "cell_type": "code",
   "execution_count": 5,
   "id": "1d19d433",
   "metadata": {},
   "outputs": [],
   "source": [
    "# Iterator is used to represent a stream of data, making it possible to traverse through all the elements of a collection, one at a time.\n",
    "# method use to initialize the iterator is FOR and the method used for iteration is IN."
   ]
  },
  {
   "cell_type": "code",
   "execution_count": 6,
   "id": "df305105",
   "metadata": {},
   "outputs": [
    {
     "name": "stdout",
     "output_type": "stream",
     "text": [
      "2 4 6 8 10 "
     ]
    }
   ],
   "source": [
    "nums = [2, 4, 6, 8, 10, 12, 14, 16, 18, 20]\n",
    "for i in nums[:5]:\n",
    "    print(i, end=\" \")"
   ]
  },
  {
   "cell_type": "markdown",
   "id": "0cdffb64",
   "metadata": {},
   "source": [
    "# 4 no question ans:-"
   ]
  },
  {
   "cell_type": "code",
   "execution_count": 7,
   "id": "1a34c5c0",
   "metadata": {},
   "outputs": [],
   "source": [
    "# A generator function in Python is a special type of function that allows the programmer to define a function that behaves like an iterator, i.e., a generator.\n",
    "# yield keyword is used to return a value."
   ]
  },
  {
   "cell_type": "code",
   "execution_count": 8,
   "id": "3465c16d",
   "metadata": {},
   "outputs": [],
   "source": [
    "def fib(n):\n",
    "    a, b = 0, 1\n",
    "    for i in range(n):\n",
    "        yield a\n",
    "        a, b = b, a + b"
   ]
  },
  {
   "cell_type": "code",
   "execution_count": 9,
   "id": "e22e9a0e",
   "metadata": {},
   "outputs": [
    {
     "name": "stdout",
     "output_type": "stream",
     "text": [
      "0 1 1 2 3 5 8 13 21 34 "
     ]
    }
   ],
   "source": [
    "for i in fib(10):\n",
    "    print(i, end=\" \")"
   ]
  },
  {
   "cell_type": "markdown",
   "id": "a6abbefd",
   "metadata": {},
   "source": [
    "# 5 no question ans:-"
   ]
  },
  {
   "cell_type": "code",
   "execution_count": 27,
   "id": "0adca0c8",
   "metadata": {},
   "outputs": [
    {
     "name": "stdout",
     "output_type": "stream",
     "text": [
      "2\n",
      "3\n",
      "5\n",
      "7\n",
      "11\n",
      "13\n",
      "17\n",
      "19\n",
      "23\n",
      "29\n",
      "31\n",
      "37\n",
      "41\n",
      "43\n",
      "47\n",
      "53\n",
      "59\n",
      "61\n",
      "67\n",
      "71\n"
     ]
    }
   ],
   "source": [
    "def prime_numbers(limit):\n",
    "    primes = []\n",
    "    for num in range(2, limit):\n",
    "        for prime in primes:\n",
    "            if num % prime == 0:\n",
    "                break\n",
    "        else:\n",
    "            primes.append(num)\n",
    "            yield num\n",
    "\n",
    "primes = prime_numbers(1000)\n",
    "for i in range(20):\n",
    "    print(next(primes))"
   ]
  },
  {
   "cell_type": "code",
   "execution_count": null,
   "id": "1d16abb6",
   "metadata": {},
   "outputs": [],
   "source": []
  }
 ],
 "metadata": {
  "kernelspec": {
   "display_name": "Python 3 (ipykernel)",
   "language": "python",
   "name": "python3"
  },
  "language_info": {
   "codemirror_mode": {
    "name": "ipython",
    "version": 3
   },
   "file_extension": ".py",
   "mimetype": "text/x-python",
   "name": "python",
   "nbconvert_exporter": "python",
   "pygments_lexer": "ipython3",
   "version": "3.10.6"
  }
 },
 "nbformat": 4,
 "nbformat_minor": 5
}
