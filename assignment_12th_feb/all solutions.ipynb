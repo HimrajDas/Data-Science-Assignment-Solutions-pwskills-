{
 "cells": [
  {
   "cell_type": "markdown",
   "id": "5c795206",
   "metadata": {},
   "source": [
    "# 1 no querstion ans:-"
   ]
  },
  {
   "cell_type": "markdown",
   "id": "1dc895b1",
   "metadata": {},
   "source": [
    "In Python, an exception is an event that occurs during the execution of a program that disrupts the normal flow of instructions. When an exception occurs, the program stops executing and Python generates an error message to indicate what went wrong.\n",
    "Some common examples of exceptions in Python include:\n",
    "\n",
    "1. ZeroDivisionError: Raised when attempting to divide by zero.\n",
    "2. TypeError: Raised when an operation or function is applied to an object of inappropriate type.\n",
    "3. ValueError: Raised when a built-in operation or function receives an argument that has the right type but an inappropriate value.\n",
    "\n",
    "The main difference between exceptions and syntax errors is that exceptions occur during the execution of the program, while syntax errors occur before the program is executed. Additionally, syntax errors are caused by mistakes in the code, such as missing parentheses or invalid keywords, whereas exceptions are caused by errors that occur during runtime, such as attempting to divide by zero or accessing a variable that has not been defined."
   ]
  },
  {
   "cell_type": "markdown",
   "id": "b584b58c",
   "metadata": {},
   "source": [
    "# 2 no question ans:-"
   ]
  },
  {
   "cell_type": "markdown",
   "id": "612a1eb0",
   "metadata": {},
   "source": [
    "When an exception is not handled in Python, it will cause the program to terminate and display an error message to the user. This can be problematic because the program may not have completed its intended task and the user will be left with incomplete or incorrect results."
   ]
  },
  {
   "cell_type": "code",
   "execution_count": 1,
   "id": "334f1e50",
   "metadata": {},
   "outputs": [
    {
     "name": "stdout",
     "output_type": "stream",
     "text": [
      "Enter a number: 2\n",
      "Enter another number: 2\n",
      "1.0\n"
     ]
    }
   ],
   "source": [
    "n1 = int(input(\"Enter a number: \"))\n",
    "n2 = int(input(\"Enter another number: \"))\n",
    "ans = n1 / n2\n",
    "print(ans)"
   ]
  },
  {
   "cell_type": "markdown",
   "id": "dc8d2cb3",
   "metadata": {},
   "source": [
    "If the user enters 0 for num2, the program will raise a ZeroDivisionError exception because it is not possible to divide by zero. If this exception is not handled, the program will terminate and display an error message to the user, such as: ZeroDivisionError: division by zero.\n",
    "\n",
    "In this case, the program will not have completed its intended task of computing the result of dividing num1 by num2. This is why it is important to handle exceptions appropriately in Python programs, so that the program can recover from errors and continue executing if possible, or terminate gracefully if necessary."
   ]
  },
  {
   "cell_type": "markdown",
   "id": "515e7dc4",
   "metadata": {},
   "source": [
    "To handle the ZeroDivisionError in the above example, we can use a try-except block like this:"
   ]
  },
  {
   "cell_type": "code",
   "execution_count": 2,
   "id": "366c17ab",
   "metadata": {},
   "outputs": [
    {
     "name": "stdout",
     "output_type": "stream",
     "text": [
      "Enter a number: 2\n",
      "Enter another number: 0\n",
      "can't divide by 0\n"
     ]
    }
   ],
   "source": [
    "n1 = int(input(\"Enter a number: \"))\n",
    "n2 = int(input(\"Enter another number: \"))\n",
    "try:\n",
    "    ans = n1 / n2\n",
    "    print(ans)\n",
    "except ZeroDivisionError:\n",
    "    print(\"can't divide by 0\")"
   ]
  },
  {
   "cell_type": "markdown",
   "id": "f0ea0d31",
   "metadata": {},
   "source": [
    "# 3 no question ans:-"
   ]
  },
  {
   "cell_type": "markdown",
   "id": "0e067e02",
   "metadata": {},
   "source": [
    "In Python, the try and except statements are used to catch and handle exceptions.\n",
    "Here, the try block contains the code that might raise an exception, and the except block contains the code that handles the exception if one occurs. The ExceptionType specifies the type of exception that should be caught and handled. If an exception of that type occurs in the try block, the code in the corresponding except block will be executed. Ex:-"
   ]
  },
  {
   "cell_type": "code",
   "execution_count": 3,
   "id": "4f92c2a7",
   "metadata": {},
   "outputs": [
    {
     "name": "stdout",
     "output_type": "stream",
     "text": [
      "Enter a number: 5\n",
      "The number is: 5\n"
     ]
    }
   ],
   "source": [
    "try:\n",
    "    num = int(input(\"Enter a number: \"))\n",
    "    print(\"The number is:\", num)\n",
    "except ValueError:\n",
    "    print(\"Error: Please enter a valid integer.\")"
   ]
  },
  {
   "cell_type": "markdown",
   "id": "ee62eb33",
   "metadata": {},
   "source": [
    "Here, the try block contains the code that might raise a ValueError exception if the user enters something other than a valid integer. The except block contains the code that handles the ValueError exception by printing an error message.\n",
    "\n",
    "If the user enters a valid integer, the program will execute the code in the try block and print the number. However, if the user enters something other than a valid integer (e.g., a letter or a symbol), the program will raise a ValueError exception and execute the code in the except block, which will print an error message instead of crashing the program.\n",
    "\n",
    "Using try-except blocks is a powerful way to handle exceptions in Python programs, as it allows the program to recover from errors and continue executing if possible, or terminate gracefully if necessary."
   ]
  },
  {
   "cell_type": "markdown",
   "id": "a59f2b46",
   "metadata": {},
   "source": [
    "# 4 no question ans:-"
   ]
  },
  {
   "cell_type": "markdown",
   "id": "2eeb1276",
   "metadata": {},
   "source": [
    "try and else: The else statement in a try-except block allows to specify code that should be executed if no exceptions are raised in the try block.\n",
    "Here, the try block contains the code that might raise an exception, the except block contains the code that handles the exception if one occurs, and the else block contains the code that executes if no exceptions are raised. For example:"
   ]
  },
  {
   "cell_type": "code",
   "execution_count": 4,
   "id": "8be17d28",
   "metadata": {},
   "outputs": [
    {
     "name": "stdout",
     "output_type": "stream",
     "text": [
      "Enter a number: 5\n",
      "The number is: 5\n"
     ]
    }
   ],
   "source": [
    "try:\n",
    "    num = int(input(\"Enter a number: \"))\n",
    "except ValueError:\n",
    "    print(\"Error: Please enter a valid integer.\")\n",
    "else:\n",
    "    print(\"The number is:\", num)"
   ]
  },
  {
   "cell_type": "markdown",
   "id": "dafe05e4",
   "metadata": {},
   "source": [
    "Here, the try block contains the code that prompts the user to enter a number and converts it to an integer. If the user enters something other than a valid integer, the except block will be executed and an error message will be printed. Otherwise, the else block will be executed and the number will be printed."
   ]
  },
  {
   "cell_type": "markdown",
   "id": "5c621fee",
   "metadata": {},
   "source": [
    "2. finally: The finally statement in a try-except block allows you to specify code that should be executed regardless of whether an exception is raised or not.\n",
    "\n",
    "Here, the try block contains the code that might raise an exception, the except block contains the code that handles the exception if one occurs, and the finally block contains the code that executes regardless of whether an exception is raised or not. For example:"
   ]
  },
  {
   "cell_type": "code",
   "execution_count": 5,
   "id": "3d3cb393",
   "metadata": {},
   "outputs": [
    {
     "name": "stdout",
     "output_type": "stream",
     "text": [
      "Enter a number: 5.5\n",
      "Error: Please enter a valid integer.\n",
      "Thank you for using this program.\n"
     ]
    }
   ],
   "source": [
    "try:\n",
    "    num = int(input(\"Enter a number: \"))\n",
    "except ValueError:\n",
    "    print(\"Error: Please enter a valid integer.\")\n",
    "finally:\n",
    "    print(\"Thank you for using this program.\")\n"
   ]
  },
  {
   "cell_type": "markdown",
   "id": "bf249f36",
   "metadata": {},
   "source": [
    "Here, the try block contains the code that prompts the user to enter a number and converts it to an integer. If the user enters something other than a valid integer, the except block will be executed and an error message will be printed. Regardless of whether an exception is raised or not, the finally block will be executed and a message thanking the user will be printed"
   ]
  },
  {
   "cell_type": "markdown",
   "id": "375c78ec",
   "metadata": {},
   "source": [
    "3. raise: The raise statement allows you to raise an exception manually in your code. Eg:"
   ]
  },
  {
   "cell_type": "code",
   "execution_count": 6,
   "id": "f4838d36",
   "metadata": {},
   "outputs": [],
   "source": [
    "def divide(num1, num2):\n",
    "    if num2 == 0:\n",
    "        raise ValueError(\"Cannot divide by zero.\")\n",
    "    return num1 / num2\n"
   ]
  },
  {
   "cell_type": "markdown",
   "id": "1190b7cf",
   "metadata": {},
   "source": [
    "Here, the divide function checks whether the second argument num2 is zero, and if it is, raises a ValueError exception with the error message \"Cannot divide by zero.\". If the second argument is not zero, the function returns the result of dividing the first argument num1 by num2. This allows you to handle errors and raise exceptions in your own code as needed."
   ]
  },
  {
   "cell_type": "markdown",
   "id": "ab35a74f",
   "metadata": {},
   "source": [
    "# 5 no question ans:-"
   ]
  },
  {
   "cell_type": "markdown",
   "id": "069e5f5e",
   "metadata": {},
   "source": [
    "Custom exceptions in Python are user-defined exceptions that can be created to represent specific error conditions that are not covered by the built-in exception types. Custom exceptions are useful because they allow you to create more meaningful error messages and provide better feedback to users when an error occurs.\n",
    "\n",
    "Custom exceptions are needed to represent specific error conditions that are not covered by the built-in exception types. By creating custom exceptions, we can provide more specific and informative error messages to users of your code, which can make it easier for them to understand and fix problems that arise. Example:"
   ]
  },
  {
   "cell_type": "code",
   "execution_count": 7,
   "id": "e3258888",
   "metadata": {},
   "outputs": [],
   "source": [
    "class InvalidPasswordError(Exception):\n",
    "    \"\"\"Exception raised for invalid passwords.\"\"\"\n",
    "\n",
    "    def __init__(self, password):\n",
    "        self.password = password\n",
    "        self.message = f\"Invalid password: {password}\"\n",
    "        super().__init__(self.message)\n",
    "        \n",
    "def set_password(password):\n",
    "    if len(password) < 8:\n",
    "        raise InvalidPasswordError(password)"
   ]
  },
  {
   "cell_type": "markdown",
   "id": "c766c75e",
   "metadata": {},
   "source": [
    "# 6 no question ans:"
   ]
  },
  {
   "cell_type": "code",
   "execution_count": 9,
   "id": "936b300b",
   "metadata": {},
   "outputs": [],
   "source": [
    "class Validateage(Exception):\n",
    "    def __init__(self, msg):\n",
    "        self.msg = msg"
   ]
  },
  {
   "cell_type": "code",
   "execution_count": 10,
   "id": "8eddf7aa",
   "metadata": {},
   "outputs": [],
   "source": [
    "def validate_age(age):\n",
    "    if age <= 0:\n",
    "        raise Validateage(\"age should not be less then 0\")\n",
    "    elif age > 150:\n",
    "        raise Validateage(\"age is too high!\")\n",
    "    else:\n",
    "        print(\"age is valid\")"
   ]
  },
  {
   "cell_type": "code",
   "execution_count": 12,
   "id": "ae0c948a",
   "metadata": {},
   "outputs": [
    {
     "name": "stdout",
     "output_type": "stream",
     "text": [
      "Enter your age: 200\n",
      "age is too high!\n"
     ]
    }
   ],
   "source": [
    "try:\n",
    "    age = int(input(\"Enter your age: \"))\n",
    "    validate_age(age)\n",
    "except Validateage as e:\n",
    "    print(e)"
   ]
  },
  {
   "cell_type": "code",
   "execution_count": null,
   "id": "1f61a773",
   "metadata": {},
   "outputs": [],
   "source": []
  }
 ],
 "metadata": {
  "kernelspec": {
   "display_name": "Python 3 (ipykernel)",
   "language": "python",
   "name": "python3"
  },
  "language_info": {
   "codemirror_mode": {
    "name": "ipython",
    "version": 3
   },
   "file_extension": ".py",
   "mimetype": "text/x-python",
   "name": "python",
   "nbconvert_exporter": "python",
   "pygments_lexer": "ipython3",
   "version": "3.10.6"
  }
 },
 "nbformat": 4,
 "nbformat_minor": 5
}
