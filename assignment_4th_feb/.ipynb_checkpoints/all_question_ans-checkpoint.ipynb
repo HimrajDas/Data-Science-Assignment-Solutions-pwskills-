{
 "cells": [
  {
   "cell_type": "markdown",
   "id": "943ba4ec",
   "metadata": {},
   "source": [
    "# 1 no question ans:-"
   ]
  },
  {
   "cell_type": "code",
   "execution_count": 15,
   "id": "31cf4325",
   "metadata": {},
   "outputs": [],
   "source": [
    "list1 = [('Sachin Tendulkar', 34357), ('Ricky Ponting', 27483), ('Jack Kallis', 25534), ('Virat Kohli', 24936)]"
   ]
  },
  {
   "cell_type": "code",
   "execution_count": 17,
   "id": "c7830bf3",
   "metadata": {},
   "outputs": [
    {
     "name": "stdout",
     "output_type": "stream",
     "text": [
      "[('Virat Kohli', 24936), ('Jack Kallis', 25534), ('Ricky Ponting', 27483), ('Sachin Tendulkar', 34357)]\n"
     ]
    }
   ],
   "source": [
    "sorted_list = sorted(list1, key=lambda x: x[1])\n",
    "print(sorted_list)"
   ]
  },
  {
   "cell_type": "markdown",
   "id": "0bf1e899",
   "metadata": {},
   "source": [
    "# 2 no question ans:-"
   ]
  },
  {
   "cell_type": "code",
   "execution_count": 4,
   "id": "d73b5981",
   "metadata": {},
   "outputs": [
    {
     "data": {
      "text/plain": [
       "[1, 4, 9, 16, 25, 36, 49, 64, 81, 100]"
      ]
     },
     "execution_count": 4,
     "metadata": {},
     "output_type": "execute_result"
    }
   ],
   "source": [
    "nums = [1, 2, 3, 4, 5, 6, 7, 8, 9, 10]\n",
    "list(map(lambda nums: nums**2, nums))"
   ]
  },
  {
   "cell_type": "markdown",
   "id": "96220821",
   "metadata": {},
   "source": [
    "# 3 no question ans:-"
   ]
  },
  {
   "cell_type": "code",
   "execution_count": 5,
   "id": "eedb4406",
   "metadata": {},
   "outputs": [
    {
     "data": {
      "text/plain": [
       "('1', '2', '3', '4', '5', '6', '7', '8', '9', '10')"
      ]
     },
     "execution_count": 5,
     "metadata": {},
     "output_type": "execute_result"
    }
   ],
   "source": [
    "nums = [1, 2, 3, 4, 5, 6, 7, 8, 9, 10]\n",
    "tuple(map(lambda nums: str(nums), nums))"
   ]
  },
  {
   "cell_type": "markdown",
   "id": "6dbbcb51",
   "metadata": {},
   "source": [
    "# 4 no question ans:-"
   ]
  },
  {
   "cell_type": "code",
   "execution_count": 7,
   "id": "b93affdd",
   "metadata": {},
   "outputs": [
    {
     "data": {
      "text/plain": [
       "15511210043330985984000000"
      ]
     },
     "execution_count": 7,
     "metadata": {},
     "output_type": "execute_result"
    }
   ],
   "source": [
    "from functools import reduce\n",
    "nums = [1, 2, 3, 4, 5, 6, 7, 8, 9, 10, 11, 12, 13, 14, 15, 16, 17, 18, 19, 20, 21, 22, 23, 24, 25]\n",
    "reduce(lambda x, y: x * y, nums)"
   ]
  },
  {
   "cell_type": "markdown",
   "id": "8e870acd",
   "metadata": {},
   "source": [
    "# 5 no question ans:-"
   ]
  },
  {
   "cell_type": "code",
   "execution_count": 9,
   "id": "d4e8891e",
   "metadata": {},
   "outputs": [
    {
     "data": {
      "text/plain": [
       "[2, 3, 6, 9, 27, 60, 90, 120, 46]"
      ]
     },
     "execution_count": 9,
     "metadata": {},
     "output_type": "execute_result"
    }
   ],
   "source": [
    "list1 = [2, 3, 6, 9, 27, 60, 90, 120, 55, 46]\n",
    "list(filter(lambda x: x % 2 == 0 or x % 3 == 0, list1))"
   ]
  },
  {
   "cell_type": "markdown",
   "id": "9ebd4a1e",
   "metadata": {},
   "source": [
    "# 6 no question ans:-"
   ]
  },
  {
   "cell_type": "code",
   "execution_count": 11,
   "id": "8844cb1b",
   "metadata": {},
   "outputs": [
    {
     "data": {
      "text/plain": [
       "['php', 'aba', 'radar', 'level']"
      ]
     },
     "execution_count": 11,
     "metadata": {},
     "output_type": "execute_result"
    }
   ],
   "source": [
    "strings = ['python', 'php', 'aba', 'radar', 'level']\n",
    "list(filter(lambda x: x == x[::-1], strings))"
   ]
  },
  {
   "cell_type": "code",
   "execution_count": null,
   "id": "c5bac975",
   "metadata": {},
   "outputs": [],
   "source": []
  }
 ],
 "metadata": {
  "kernelspec": {
   "display_name": "Python 3 (ipykernel)",
   "language": "python",
   "name": "python3"
  },
  "language_info": {
   "codemirror_mode": {
    "name": "ipython",
    "version": 3
   },
   "file_extension": ".py",
   "mimetype": "text/x-python",
   "name": "python",
   "nbconvert_exporter": "python",
   "pygments_lexer": "ipython3",
   "version": "3.10.6"
  }
 },
 "nbformat": 4,
 "nbformat_minor": 5
}
