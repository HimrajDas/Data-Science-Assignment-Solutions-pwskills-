{
 "cells": [
  {
   "cell_type": "markdown",
   "id": "89da3e03",
   "metadata": {},
   "source": [
    "# 1 no question ans:-"
   ]
  },
  {
   "cell_type": "raw",
   "id": "005437ed",
   "metadata": {},
   "source": [
    "open() function is used to open a file.\n",
    "The different modes of opening a file are:-\n",
    "1. \"r\" mode: This mode is used to open a file for reading.\n",
    "2. \"w\" mode: This mode is used to open a file for writing.\n",
    "3. \"a\" mode: This mode is used to open a file for appending.\n",
    "4. 'x' mode: This mode is used to open a file for exclusive creation.\n",
    "5. 'b' mode: This mode is used to open a file in binary mode."
   ]
  },
  {
   "cell_type": "markdown",
   "id": "5b514027",
   "metadata": {},
   "source": [
    "# 2 no question ans:-"
   ]
  },
  {
   "cell_type": "raw",
   "id": "378d9a96",
   "metadata": {},
   "source": [
    "The close() function is used to close a file that has been opened using the open() function in Python. It is important to close a file after it has been opened because it frees up system resources that were being used by the file.\n",
    "\n",
    "When a file is opened in Python, the operating system allocates resources to that file, such as memory and file handles. If the file is not closed properly, these resources may not be freed up, which can lead to issues such as file corruption or memory leaks.Closing a file using the close() function ensures that all the resources associated with the file are properly released. This includes any memory used by the file buffer, any locks or flags set by the operating system, and any file handles that were opened.It is good practice to close files after they have been opened, even if the program terminates before the file is closed. This ensures that any data written to the file is properly saved, and that the file is left in a consistent state.\n",
    "\n",
    "In summary, it is important to close a file after it has been opened to free up system resources, prevent file corruption or memory leaks, ensure that data is properly saved, and leave the file in a consistent state."
   ]
  },
  {
   "cell_type": "markdown",
   "id": "cb234042",
   "metadata": {},
   "source": [
    "# 3 no question ans:-"
   ]
  },
  {
   "cell_type": "code",
   "execution_count": 1,
   "id": "3975e5af",
   "metadata": {},
   "outputs": [],
   "source": [
    "with open(\"testing.txt\", \"w\") as f:\n",
    "    f.write(\"I want to become a Data Scientist\")"
   ]
  },
  {
   "cell_type": "code",
   "execution_count": 2,
   "id": "172023a2",
   "metadata": {},
   "outputs": [
    {
     "name": "stdout",
     "output_type": "stream",
     "text": [
      "I want to become a Data Scientist\n"
     ]
    }
   ],
   "source": [
    "with open(\"testing.txt\", \"r\") as f:\n",
    "    print(f.read())"
   ]
  },
  {
   "cell_type": "markdown",
   "id": "25c50add",
   "metadata": {},
   "source": [
    "# 4 no question ans:-"
   ]
  },
  {
   "cell_type": "code",
   "execution_count": 4,
   "id": "fdae8e08",
   "metadata": {},
   "outputs": [],
   "source": [
    "# read():-\n",
    "with open(\"example.txt\", \"r\") as f:\n",
    "    data = f.read()\n",
    "    print(data)"
   ]
  },
  {
   "cell_type": "code",
   "execution_count": 6,
   "id": "58693cb4",
   "metadata": {},
   "outputs": [],
   "source": [
    "# readline():-\n",
    "with open(\"example.txt\", \"r\") as f:\n",
    "    data = f.readline()"
   ]
  },
  {
   "cell_type": "code",
   "execution_count": null,
   "id": "68918629",
   "metadata": {},
   "outputs": [],
   "source": [
    "# readlines():-\n",
    "with open(\"example.txt\", \"r\") as f:\n",
    "    lines = file.readlines()\n",
    "    for line in lines:\n",
    "        print(line)"
   ]
  },
  {
   "cell_type": "markdown",
   "id": "9f0b831b",
   "metadata": {},
   "source": [
    "# 5 no question ans:-"
   ]
  },
  {
   "cell_type": "raw",
   "id": "b73b80df",
   "metadata": {},
   "source": [
    "with statement is used with open to close the file automatically.\n",
    "\n",
    "The advantage of using the with statement with the open() function is that it provides a simple and convenient way to work with files, while ensuring that the file is properly closed after it has been used. This helps to avoid common errors that can occur when working with files, such as leaving a file open for too long, which can lead to issues such as file corruption or memory leaks."
   ]
  },
  {
   "cell_type": "markdown",
   "id": "86acc6ac",
   "metadata": {},
   "source": [
    "# 6 no question ans:-"
   ]
  },
  {
   "cell_type": "raw",
   "id": "66ffc950",
   "metadata": {},
   "source": [
    "The write() function is used to write a single string of data to a file. It takes a string as an argument and writes it to the file. If the file doesn't exist, it will be created. If it already exists, the function will overwrite the existing data in the file with the new data."
   ]
  },
  {
   "cell_type": "code",
   "execution_count": 7,
   "id": "6f12a7b4",
   "metadata": {},
   "outputs": [],
   "source": [
    "with open(\"test.txt\", 'w') as f:\n",
    "    f.write(\"Hello PW\")"
   ]
  },
  {
   "cell_type": "raw",
   "id": "46c326da",
   "metadata": {},
   "source": [
    "The writelines() function is used to write multiple strings of data to a file. It takes an iterable as an argument, such as a list of strings, and writes each string to the file. Like the write() function, if the file doesn't exist, it will be created. If it already exists, the function will overwrite the existing data in the file with the new data."
   ]
  },
  {
   "cell_type": "code",
   "execution_count": 8,
   "id": "4b6d84c2",
   "metadata": {},
   "outputs": [],
   "source": [
    "lines = [\"This is the first line.\\n\", \"This is the second line.\\n\", \"This is the third line.\\n\"]\n",
    "with open(\"example.txt\", \"w\") as f:\n",
    "    f.writelines(lines)"
   ]
  },
  {
   "cell_type": "code",
   "execution_count": null,
   "id": "80e3654c",
   "metadata": {},
   "outputs": [],
   "source": []
  }
 ],
 "metadata": {
  "kernelspec": {
   "display_name": "Python 3 (ipykernel)",
   "language": "python",
   "name": "python3"
  },
  "language_info": {
   "codemirror_mode": {
    "name": "ipython",
    "version": 3
   },
   "file_extension": ".py",
   "mimetype": "text/x-python",
   "name": "python",
   "nbconvert_exporter": "python",
   "pygments_lexer": "ipython3",
   "version": "3.10.6"
  }
 },
 "nbformat": 4,
 "nbformat_minor": 5
}
