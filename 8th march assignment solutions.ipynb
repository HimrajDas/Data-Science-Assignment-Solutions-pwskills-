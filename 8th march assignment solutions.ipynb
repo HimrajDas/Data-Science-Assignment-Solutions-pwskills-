{
 "cells": [
  {
   "cell_type": "markdown",
   "id": "3db7c1a9-7ccb-4946-899f-f6bf24dfd187",
   "metadata": {},
   "source": [
    "# 1 no question ans"
   ]
  },
  {
   "cell_type": "markdown",
   "id": "0ce44e0c-248b-4348-b8f2-98a8cc8ce572",
   "metadata": {},
   "source": [
    "The Probability Density Function (PDF) is a statistical function that describes the likelihood of a continuous random variable taking on a specific value. In other words, it gives the probability of a random variable falling within a particular range of values. The PDF provides a probability distribution for continuous random variables and is used to understand the distribution's shape and characteristics.\n",
    "\n",
    "In mathematical terms, the PDF is denoted as f(x), where \"x\" is the random variable, and it satisfies the following properties:\n",
    "\n",
    "1. The PDF values are non-negative for all values of the random variable.\n",
    "2. The area under the PDF curve over the entire range of the random variable is equal to 1."
   ]
  },
  {
   "cell_type": "markdown",
   "id": "8b23160b-1b51-4010-9f3b-75c62d29f10f",
   "metadata": {},
   "source": [
    "# 2 no question ans"
   ]
  },
  {
   "cell_type": "markdown",
   "id": "845ee918-3949-466b-81f3-ccd2b0ba124e",
   "metadata": {},
   "source": [
    "There are several types of probability distributions, which can be broadly categorized into two main types:\n",
    "\n",
    "1. Discrete Probability Distribution: In this type of distribution, the random variable can take on only distinct and separate values. The probability is assigned to each individual value. Examples of discrete probability distributions include the Binomial distribution, Poisson distribution, and Bernoulli distribution.\n",
    "\n",
    "2. Continuous Probability Distribution: In this type of distribution, the random variable can take on any value within a certain range, and probabilities are assigned to intervals rather than individual values. Examples of continuous probability distributions include the Normal (Gaussian) distribution, Exponential distribution, and Uniform distribution."
   ]
  },
  {
   "cell_type": "markdown",
   "id": "67d205c5-afcc-4dd2-9a1a-1e8c09c3ebfc",
   "metadata": {},
   "source": [
    "# 3 no question ans"
   ]
  },
  {
   "cell_type": "code",
   "execution_count": 1,
   "id": "b1ea2037-c3b4-488b-8aec-8f05a87b4f14",
   "metadata": {},
   "outputs": [],
   "source": [
    "import numpy as np\n",
    "\n",
    "def normal_pdf(x, mean, std_dev):\n",
    "    coefficient = 1 / (std_dev * np.sqrt(2 * np.pi))\n",
    "    exponent = -0.5 * ((x - mean) / std_dev) ** 2\n",
    "    return coefficient * np.exp(exponent)\n"
   ]
  },
  {
   "cell_type": "markdown",
   "id": "6bdfb0c9-d42a-46f6-bcf3-9cc5d8b72c64",
   "metadata": {},
   "source": [
    "# 4 no question ans"
   ]
  },
  {
   "cell_type": "markdown",
   "id": "644188cf-44ce-486c-9c65-b157a9e048c9",
   "metadata": {},
   "source": [
    "Properties of Binomial distribution:\n",
    "\n",
    "1. It is a discrete probability distribution.\n",
    "2. The random variable represents the number of successes in a fixed number of independent Bernoulli trials.\n",
    "3. Each trial has only two possible outcomes: success or failure.\n",
    "4. The probability of success remains constant from trial to trial.\n",
    "5. The trials are independent of each other.\n",
    "Examples of events where Binomial distribution can be applied:\n",
    "\n",
    "1. Coin Toss: When flipping a fair coin multiple times, the probability of getting \"heads\" (success) in each toss follows a binomial distribution.\n",
    "2. Drug Efficacy: When conducting clinical trials to determine the effectiveness of a new drug, the probability of a patient recovering (success) after treatment follows a binomial distribution."
   ]
  },
  {
   "cell_type": "markdown",
   "id": "7c222f59-ecde-4f9a-9ef6-1ead3c4caa87",
   "metadata": {},
   "source": [
    "# 5 no question ans"
   ]
  },
  {
   "cell_type": "code",
   "execution_count": 2,
   "id": "0e69550d-ed81-44b3-8d12-029ab37b9075",
   "metadata": {},
   "outputs": [
    {
     "data": {
      "image/png": "[encoded data removed]",
      "text/plain": [
       "<Figure size 640x480 with 1 Axes>"
      ]
     },
     "metadata": {},
     "output_type": "display_data"
    }
   ],
   "source": [
    "import numpy as np\n",
    "import matplotlib.pyplot as plt\n",
    "\n",
    "# Generate random sample from a binomial distribution\n",
    "sample_size = 1000\n",
    "probability_success = 0.4\n",
    "random_sample = np.random.binomial(1, probability_success, size=sample_size)\n",
    "\n",
    "# Plot histogram\n",
    "plt.hist(random_sample, bins=[0, 1, 2], align='left', rwidth=0.8)\n",
    "plt.xticks([0, 1], ['Failure', 'Success'])\n",
    "plt.xlabel('Outcome')\n",
    "plt.ylabel('Frequency')\n",
    "plt.title('Histogram of Binomial Distribution')\n",
    "plt.show()"
   ]
  },
  {
   "cell_type": "markdown",
   "id": "b558d311-089b-4c54-8146-df649b01e00b",
   "metadata": {},
   "source": [
    "# 6 no question ans"
   ]
  },
  {
   "cell_type": "code",
   "execution_count": 3,
   "id": "6b3ea6b2-8559-44ad-ab77-5e3e38180359",
   "metadata": {},
   "outputs": [],
   "source": [
    "import scipy.stats as stats\n",
    "\n",
    "def poisson_cdf(x, mean):\n",
    "    return stats.poisson.cdf(x, mean)"
   ]
  },
  {
   "cell_type": "markdown",
   "id": "63762c8d-c4aa-4587-927f-17cf0b50fc89",
   "metadata": {},
   "source": [
    "# 7 no question ans"
   ]
  },
  {
   "cell_type": "raw",
   "id": "98455bb6-14ff-498f-be41-8543d41e90b5",
   "metadata": {},
   "source": [
    "The main differences between the Binomial distribution and Poisson distribution are as follows:\n",
    "\n",
    "Nature of Random Variable:\n",
    "\n",
    "Binomial Distribution: The random variable in the Binomial distribution represents the number of successes in a fixed number of independent Bernoulli trials (each with two possible outcomes: success or failure).\n",
    "Poisson Distribution: The random variable in the Poisson distribution represents the number of events occurring in a fixed interval of time or space, where events happen independently and with a constant mean rate.\n",
    "Type of Distribution:\n",
    "\n",
    "Binomial Distribution: Discrete probability distribution.\n",
    "Poisson Distribution: Discrete probability distribution.\n",
    "Parameters:\n",
    "\n",
    "Binomial Distribution: The Binomial distribution requires two parameters: the probability of success in each trial (p) and the number of trials (n).\n",
    "Poisson Distribution: The Poisson distribution requires one parameter: the average rate of occurrence of events (λ).\n",
    "Use Cases:\n",
    "\n",
    "Binomial Distribution: It is used when dealing with a fixed number of independent trials, each with a binary outcome (success/failure).\n",
    "Poisson Distribution: It is used to model the number of rare events occurring in a fixed interval or space, where the events are independent and have a constant mean rate."
   ]
  },
  {
   "cell_type": "markdown",
   "id": "b03bd70a-1d1d-40c7-b1a9-218f434ad24d",
   "metadata": {},
   "source": [
    "# 8 no question ans"
   ]
  },
  {
   "cell_type": "code",
   "execution_count": 4,
   "id": "239d1fbf-a139-49eb-b6e5-e98249dc2d01",
   "metadata": {},
   "outputs": [
    {
     "name": "stdout",
     "output_type": "stream",
     "text": [
      "Sample Mean: 5.042\n",
      "Sample Variance: 4.972236\n"
     ]
    }
   ],
   "source": [
    "import numpy as np\n",
    "\n",
    "# Generate random sample from a Poisson distribution\n",
    "sample_size = 1000\n",
    "mean = 5\n",
    "random_sample = np.random.poisson(mean, size=sample_size)\n",
    "\n",
    "# Calculate sample mean and variance\n",
    "sample_mean = np.mean(random_sample)\n",
    "sample_variance = np.var(random_sample)\n",
    "\n",
    "print(\"Sample Mean:\", sample_mean)\n",
    "print(\"Sample Variance:\", sample_variance)"
   ]
  },
  {
   "cell_type": "markdown",
   "id": "1b742ecb-9ab7-4765-8059-e9d00bf665c9",
   "metadata": {},
   "source": [
    "# 9 no question ans"
   ]
  },
  {
   "cell_type": "raw",
   "id": "49cb968d-564b-4cb3-b83a-e18a13ffda8f",
   "metadata": {},
   "source": [
    "In both Binomial distribution and Poisson distribution:\n",
    "\n",
    "The mean (μ) is equal to the product of the probability of success in a single trial (p) and the number of trials (n) for the Binomial distribution.\n",
    "The mean (μ) is equal to the parameter λ for the Poisson distribution.\n",
    "However, the variance (σ^2) differs between the two distributions:\n",
    "\n",
    "Binomial distribution: The variance is equal to n * p * (1 - p).\n",
    "Poisson distribution: The variance is equal to λ.\n",
    "In summary, the mean is a measure of central tendency, and the variance is a measure of spread or dispersion in both distributions, but their formulas for variance calculation are different."
   ]
  },
  {
   "cell_type": "markdown",
   "id": "55b677df-fc06-4f2c-a89f-1ddd6c50ec6e",
   "metadata": {},
   "source": [
    "# 10 no question ans"
   ]
  },
  {
   "cell_type": "markdown",
   "id": "5ccde46b-8aa6-40d2-afea-26b097241c54",
   "metadata": {},
   "source": [
    "In a normal distribution, the data is symmetrically distributed around the mean. Therefore, the least frequent data appears at the tails of the distribution, farthest away from the mean. The tails represent the extreme values, and as we move away from the mean towards the tails, the frequency of data decreases."
   ]
  },
  {
   "cell_type": "code",
   "execution_count": null,
   "id": "f63a0c57-fa6b-4f65-a18e-8d1c626b905b",
   "metadata": {},
   "outputs": [],
   "source": []
  }
 ],
 "metadata": {
  "kernelspec": {
   "display_name": "Python 3 (ipykernel)",
   "language": "python",
   "name": "python3"
  },
  "language_info": {
   "codemirror_mode": {
    "name": "ipython",
    "version": 3
   },
   "file_extension": ".py",
   "mimetype": "text/x-python",
   "name": "python",
   "nbconvert_exporter": "python",
   "pygments_lexer": "ipython3",
   "version": "3.10.8"
  }
 },
 "nbformat": 4,
 "nbformat_minor": 5
}
