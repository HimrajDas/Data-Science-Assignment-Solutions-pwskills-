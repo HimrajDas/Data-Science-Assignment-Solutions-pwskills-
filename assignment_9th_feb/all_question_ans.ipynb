{
 "cells": [
  {
   "cell_type": "markdown",
   "id": "bcbf59ec",
   "metadata": {},
   "source": [
    "# 1 no question ans:"
   ]
  },
  {
   "cell_type": "code",
   "execution_count": 3,
   "id": "135dfc62",
   "metadata": {},
   "outputs": [],
   "source": [
    "class Vehicle:\n",
    "    \n",
    "    def __init__(self, name_of_vehicle, max_speed, avg_of_vehicle):\n",
    "        self.name_of_vehicle = name_of_vehicle\n",
    "        self.max_speed = max_speed\n",
    "        self.avg_of_vehicle = avg_of_vehicle\n",
    "\n",
    "car = Vehicle(\"Urus\", 308, 6.2)"
   ]
  },
  {
   "cell_type": "markdown",
   "id": "8aa8e7bc",
   "metadata": {},
   "source": [
    "# 2 no question ans:"
   ]
  },
  {
   "cell_type": "code",
   "execution_count": 5,
   "id": "591adb64",
   "metadata": {},
   "outputs": [],
   "source": [
    "class Vehicle2(Vehicle):\n",
    "    \n",
    "    def seating_capacity(self, no_of_seats):\n",
    "        self.no_of_seats = no_of_seats\n",
    "        return self.name_of_vehicle, self.no_of_seats"
   ]
  },
  {
   "cell_type": "code",
   "execution_count": 8,
   "id": "4c74b879",
   "metadata": {},
   "outputs": [
    {
     "data": {
      "text/plain": [
       "('Urus', 5)"
      ]
     },
     "execution_count": 8,
     "metadata": {},
     "output_type": "execute_result"
    }
   ],
   "source": [
    "car = Vehicle2(\"Urus\", 308, 6.2)\n",
    "car.seating_capacity(5)"
   ]
  },
  {
   "cell_type": "markdown",
   "id": "d9e4d43a",
   "metadata": {},
   "source": [
    "# 3 no question ans:"
   ]
  },
  {
   "cell_type": "raw",
   "id": "08ac2164",
   "metadata": {},
   "source": [
    "Multiple inheritance is a feature of object-oriented programming languages that allows a class to inherit properties and methods from multiple parent classes."
   ]
  },
  {
   "cell_type": "code",
   "execution_count": 9,
   "id": "0da0d3c0",
   "metadata": {},
   "outputs": [
    {
     "name": "stdout",
     "output_type": "stream",
     "text": [
      "Buddy is eating\n",
      "Buddy is playing\n",
      "Woof!\n"
     ]
    }
   ],
   "source": [
    "class Animal:\n",
    "    def __init__(self, name):\n",
    "        self.name = name\n",
    "\n",
    "    def eat(self):\n",
    "        print(f\"{self.name} is eating\")\n",
    "\n",
    "class Pet:\n",
    "    def play(self):\n",
    "        print(f\"{self.name} is playing\")\n",
    "\n",
    "class Dog(Animal, Pet):\n",
    "    def __init__(self, name):\n",
    "        Animal.__init__(self, name)\n",
    "        Pet.__init__(self)\n",
    "\n",
    "    def bark(self):\n",
    "        print(\"Woof!\")\n",
    "\n",
    "dog = Dog(\"Buddy\")\n",
    "dog.eat()\n",
    "dog.play()\n",
    "dog.bark()"
   ]
  },
  {
   "cell_type": "markdown",
   "id": "033bfd05",
   "metadata": {},
   "source": [
    "# 4 no question ans:"
   ]
  },
  {
   "cell_type": "raw",
   "id": "4462483c",
   "metadata": {},
   "source": [
    "In Python, a getter method is a method that is used to retrieve the value of a private instance variable, while a setter method is a method that is used to set the value of a private instance variable.\n",
    "\n",
    "Getter and setter methods are typically used to ensure data encapsulation and provide controlled access to instance variables."
   ]
  },
  {
   "cell_type": "code",
   "execution_count": 10,
   "id": "68a4859f",
   "metadata": {},
   "outputs": [],
   "source": [
    "class Pwskills:\n",
    "    \n",
    "    def __init__(self, course_price, course_name):\n",
    "        self.__course_price = course_price\n",
    "        self.course_name = course_name\n",
    "        \n",
    "    \n",
    "    @property\n",
    "    def course_price_access(self):\n",
    "        return self.__course_price\n",
    "    \n",
    "    \n",
    "    @course_price_access.setter\n",
    "    def set_course_price(self, price):\n",
    "        if price <= 3500:\n",
    "            pass\n",
    "        else:\n",
    "            self.__course_price = price"
   ]
  },
  {
   "cell_type": "markdown",
   "id": "d167de31",
   "metadata": {},
   "source": [
    "# 5 no question ans:"
   ]
  },
  {
   "cell_type": "raw",
   "id": "8ff8fd50",
   "metadata": {},
   "source": [
    "Method overriding is a feature of object-oriented programming that allows a subclass to provide its own implementation of a method that is already defined in its superclass."
   ]
  },
  {
   "cell_type": "code",
   "execution_count": 11,
   "id": "221f8151",
   "metadata": {},
   "outputs": [],
   "source": [
    "class Animal:\n",
    "    def make_sound(self):\n",
    "        print(\"Generic animal sound\")\n",
    "\n",
    "class Cat(Animal):\n",
    "    def make_sound(self):\n",
    "        print(\"Meow\")\n",
    "\n",
    "class Dog(Animal):\n",
    "    def make_sound(self):\n",
    "        print(\"Woof\")"
   ]
  },
  {
   "cell_type": "code",
   "execution_count": null,
   "id": "b10e1059",
   "metadata": {},
   "outputs": [],
   "source": []
  }
 ],
 "metadata": {
  "kernelspec": {
   "display_name": "Python 3 (ipykernel)",
   "language": "python",
   "name": "python3"
  },
  "language_info": {
   "codemirror_mode": {
    "name": "ipython",
    "version": 3
   },
   "file_extension": ".py",
   "mimetype": "text/x-python",
   "name": "python",
   "nbconvert_exporter": "python",
   "pygments_lexer": "ipython3",
   "version": "3.10.6"
  }
 },
 "nbformat": 4,
 "nbformat_minor": 5
}
