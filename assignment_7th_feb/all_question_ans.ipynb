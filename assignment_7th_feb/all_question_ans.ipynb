{
 "cells": [
  {
   "cell_type": "markdown",
   "id": "33f78620",
   "metadata": {},
   "source": [
    "# 1 no question ans:-"
   ]
  },
  {
   "cell_type": "code",
   "execution_count": 8,
   "id": "54abf920",
   "metadata": {},
   "outputs": [],
   "source": [
    "def check_password(password):\n",
    "    \n",
    "    if len(password) < 10:\n",
    "        return \"Invalid password\"\n",
    "    \n",
    "    upper_count = 0\n",
    "    lower_count = 0\n",
    "    \n",
    "    for char in password:\n",
    "        if char.isupper():\n",
    "            upper_count += 1\n",
    "        elif char.islower():\n",
    "            lower_count += 1\n",
    "        if upper_count >= 2 and lower_count >= 2:\n",
    "            break\n",
    "            \n",
    "    if upper_count < 2 or lower_count < 2:\n",
    "        return \"Invalid password\"\n",
    "    \n",
    "    number_count = 0\n",
    "    special_count = 0\n",
    "    special_chars = \"!@#$%^&*?\"\n",
    "    \n",
    "    for char in password:\n",
    "        if char.isdigit():\n",
    "            number_count += 1\n",
    "        elif char in special_chars:\n",
    "            special_count += 1\n",
    "        if number_count > 1 and special_count >= 3:\n",
    "            break\n",
    "            \n",
    "    if number_count < 1 or special_count < 3:\n",
    "        return \"Invalid password\"\n",
    "    \n",
    "    return \"valid password\""
   ]
  },
  {
   "cell_type": "code",
   "execution_count": 9,
   "id": "b0f08b4c",
   "metadata": {},
   "outputs": [
    {
     "data": {
      "text/plain": [
       "'valid password'"
      ]
     },
     "execution_count": 9,
     "metadata": {},
     "output_type": "execute_result"
    }
   ],
   "source": [
    "check_password(\"HimraJ1@#$\")"
   ]
  },
  {
   "cell_type": "markdown",
   "id": "155e2869",
   "metadata": {},
   "source": [
    "# 2 no question ans:-"
   ]
  },
  {
   "cell_type": "code",
   "execution_count": 14,
   "id": "266c07ef",
   "metadata": {},
   "outputs": [
    {
     "data": {
      "text/plain": [
       "['I']"
      ]
     },
     "execution_count": 14,
     "metadata": {},
     "output_type": "execute_result"
    }
   ],
   "source": [
    "string = \"I am learning Data Science\"\n",
    "list(filter(lambda s: s[0] == 'I', string))"
   ]
  },
  {
   "cell_type": "code",
   "execution_count": 15,
   "id": "752912bd",
   "metadata": {},
   "outputs": [
    {
     "data": {
      "text/plain": [
       "<filter at 0x2d7fb2228c0>"
      ]
     },
     "execution_count": 15,
     "metadata": {},
     "output_type": "execute_result"
    }
   ],
   "source": [
    "string = \"1234\"\n",
    "filter(lambda s: s.isdigit(), string)"
   ]
  },
  {
   "cell_type": "code",
   "execution_count": 19,
   "id": "37c57c10",
   "metadata": {},
   "outputs": [
    {
     "name": "stdout",
     "output_type": "stream",
     "text": [
      "[('orange', 80), ('mango', 99), ('grapes', 1000)]\n"
     ]
    }
   ],
   "source": [
    "list1 =  [(\"mango\",99),(\"orange\",80), (\"grapes\", 1000)]\n",
    "final_list = sorted(list1, key=lambda x: x[1])\n",
    "print(final_list)"
   ]
  },
  {
   "cell_type": "code",
   "execution_count": 21,
   "id": "10dbd473",
   "metadata": {},
   "outputs": [
    {
     "name": "stdout",
     "output_type": "stream",
     "text": [
      "[1, 4, 9, 16, 25, 36, 49, 64, 81, 100]\n"
     ]
    }
   ],
   "source": [
    "squares_upto_10 = [i**2 for i in range(1, 11)]\n",
    "print(squares_upto_10)"
   ]
  },
  {
   "cell_type": "code",
   "execution_count": 24,
   "id": "730dc422",
   "metadata": {},
   "outputs": [
    {
     "data": {
      "text/plain": [
       "True"
      ]
     },
     "execution_count": 24,
     "metadata": {},
     "output_type": "execute_result"
    }
   ],
   "source": [
    "is_even = lambda x: x % 2 == 0\n",
    "is_even(2)"
   ]
  },
  {
   "cell_type": "code",
   "execution_count": 25,
   "id": "9fb912c8",
   "metadata": {},
   "outputs": [
    {
     "data": {
      "text/plain": [
       "[1, 3, 5, 7, 9]"
      ]
     },
     "execution_count": 25,
     "metadata": {},
     "output_type": "execute_result"
    }
   ],
   "source": [
    "nums = [1, 2, 3, 4, 5, 6, 7, 8, 9, 10]\n",
    "list(filter(lambda x: x % 2 != 0, nums))"
   ]
  },
  {
   "cell_type": "code",
   "execution_count": 52,
   "id": "5535a615",
   "metadata": {},
   "outputs": [
    {
     "name": "stdout",
     "output_type": "stream",
     "text": [
      "[0, 1, 2, 3, 4, 5, 6] [-5, -4, -3, -2, -1]\n"
     ]
    }
   ],
   "source": [
    "nums = [1, 2, 3, 4, 5, 6, -1,- 2, -3, -4, -5, 0]\n",
    "p_list = sorted([i for i in nums if i >= 0])\n",
    "n_list = sorted([i for i in nums if i < 0])\n",
    "print(p_list, n_list)"
   ]
  },
  {
   "cell_type": "code",
   "execution_count": null,
   "id": "195340b8",
   "metadata": {},
   "outputs": [],
   "source": []
  }
 ],
 "metadata": {
  "kernelspec": {
   "display_name": "Python 3 (ipykernel)",
   "language": "python",
   "name": "python3"
  },
  "language_info": {
   "codemirror_mode": {
    "name": "ipython",
    "version": 3
   },
   "file_extension": ".py",
   "mimetype": "text/x-python",
   "name": "python",
   "nbconvert_exporter": "python",
   "pygments_lexer": "ipython3",
   "version": "3.10.6"
  }
 },
 "nbformat": 4,
 "nbformat_minor": 5
}
