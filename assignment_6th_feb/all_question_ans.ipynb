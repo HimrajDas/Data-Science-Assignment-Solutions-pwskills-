{
 "cells": [
  {
   "cell_type": "markdown",
   "metadata": {},
   "source": [
    "\n"
   ]
  },
  {
   "cell_type": "markdown",
   "metadata": {},
   "source": [
    "# 1 no question ans\n"
   ]
  },
  {
   "cell_type": "code",
   "execution_count": 1,
   "metadata": {},
   "outputs": [],
   "source": [
    "list1 = [1, 2, 3, 4, [44, 55, 66, True], False, (34, 56, 78, 89, 34), {1, 2, 3, 3, 2, 1}, {1:34, \"key2\": [55, 67, 78, 89], 4:(45, 22, 61, 34)}, [56, \"data science\"], \"machine learning\"]"
   ]
  },
  {
   "cell_type": "code",
   "execution_count": 9,
   "metadata": {},
   "outputs": [],
   "source": [
    "def squares(l):\n",
    "    ans = []\n",
    "    for element in l:\n",
    "        if type(element) == int:\n",
    "            ans.append(element**2)\n",
    "            \n",
    "        if type(element) == list:\n",
    "            for j in element:\n",
    "                if type(j) == int:\n",
    "                    ans.append(j**2)\n",
    "        \n",
    "        if type(element) == tuple:\n",
    "            for k in element:\n",
    "                ans.append(k**2)\n",
    "        \n",
    "        if type(element) == set:\n",
    "            for m in element:\n",
    "                ans.append(m**2)\n",
    "                \n",
    "        if type(element) == dict:\n",
    "            for x in element:\n",
    "                if type(x) == int:\n",
    "                    ans.append(x**2)\n",
    "                    \n",
    "                if type(element[x]) == int:\n",
    "                    ans.append((element[x])**2)\n",
    "                    \n",
    "                if type(element[x]) == list:\n",
    "                    for n in element[x]:\n",
    "                        if type(n) == int:\n",
    "                            ans.append(n**2)\n",
    "                \n",
    "                if type(element[x]) == tuple:\n",
    "                    for d in element[x]:\n",
    "                        if type(d) == int:\n",
    "                            ans.append(d**2)\n",
    "    return ans"
   ]
  },
  {
   "cell_type": "code",
   "execution_count": 10,
   "metadata": {},
   "outputs": [
    {
     "data": {
      "text/plain": [
       "[1,\n",
       " 4,\n",
       " 9,\n",
       " 16,\n",
       " 1936,\n",
       " 3025,\n",
       " 4356,\n",
       " 1156,\n",
       " 3136,\n",
       " 6084,\n",
       " 7921,\n",
       " 1156,\n",
       " 1,\n",
       " 4,\n",
       " 9,\n",
       " 1,\n",
       " 1156,\n",
       " 3025,\n",
       " 4489,\n",
       " 6084,\n",
       " 7921,\n",
       " 16,\n",
       " 2025,\n",
       " 484,\n",
       " 3721,\n",
       " 1156,\n",
       " 3136]"
      ]
     },
     "execution_count": 10,
     "metadata": {},
     "output_type": "execute_result"
    }
   ],
   "source": [
    "squares(list1)"
   ]
  },
  {
   "cell_type": "markdown",
   "metadata": {},
   "source": [
    "# 2 no question ans"
   ]
  },
  {
   "cell_type": "code",
   "execution_count": 27,
   "metadata": {},
   "outputs": [],
   "source": [
    "def encryption(sentence):\n",
    "    sentence.lower()\n",
    "    return sentence.replace('a','z').replace('b','y').replace('c', 'x').replace(' ','$')"
   ]
  },
  {
   "cell_type": "code",
   "execution_count": 28,
   "metadata": {},
   "outputs": [
    {
     "data": {
      "text/plain": [
       "'I$wznt$to$yexome$z$Dztz$Sxientist'"
      ]
     },
     "execution_count": 28,
     "metadata": {},
     "output_type": "execute_result"
    }
   ],
   "source": [
    "sentence = \"I want to become a Data Scientist\"\n",
    "encryption(sentence)"
   ]
  },
  {
   "cell_type": "code",
   "execution_count": null,
   "metadata": {},
   "outputs": [],
   "source": []
  }
 ],
 "metadata": {
  "kernelspec": {
   "display_name": "Python 3 (ipykernel)",
   "language": "python",
   "name": "python3"
  },
  "language_info": {
   "codemirror_mode": {
    "name": "ipython",
    "version": 3
   },
   "file_extension": ".py",
   "mimetype": "text/x-python",
   "name": "python",
   "nbconvert_exporter": "python",
   "pygments_lexer": "ipython3",
   "version": "3.10.6"
  }
 },
 "nbformat": 4,
 "nbformat_minor": 2
}
